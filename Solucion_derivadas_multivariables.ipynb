{
 "nbformat": 4,
 "nbformat_minor": 0,
 "metadata": {
  "colab": {
   "name": "4 - Diseñando mapas: curvas de nivel.ipynb",
   "provenance": [],
   "toc_visible": true
  },
  "kernelspec": {
   "name": "python3",
   "display_name": "Python 3"
  }
 },
 "cells": [
  {
   "cell_type": "code",
   "metadata": {
    "id": "xpwZ6cgMv_Xt",
    "outputId": "64225d59-1726-4386-b618-aa17905731df",
    "colab": {
     "base_uri": "https://localhost:8080/"
    }
   },
   "source": [
    "from math import *\n",
    "import sympy as sp\n",
    "\n",
    "\n",
    "def derivada(expr, variables):\n",
    "    for der_respect in variables:\n",
    "        variabes = sp.Symbol(f'{der_respect}')\n",
    "        funcion = sp.Derivative(expr, variabes, evaluate=True)\n",
    "        print(f'La derivada parcial df/d{der_respect} =  {funcion}')\n",
    "\n",
    "\n",
    "if __name__ == '__main__':\n",
    "    variables = ['x', 'y', 'z']\n",
    "    expr = input(\"\\nFuncion a evaluar:    f(x,y,z)=\")\n",
    "    derivada(expr, variables)\n"
   ],
   "execution_count": 12,
   "outputs": [
    {
     "output_type": "stream",
     "text": [
      "\n",
      "Funcion a evaluar:    f(x,y,z)=x**2+x+y*z\n",
      "La derivada parcial df/dx =  2*x + 1\n",
      "La derivada parcial df/dy =  z\n",
      "La derivada parcial df/dz =  y\n"
     ],
     "name": "stdout"
    }
   ]
  }
 ]
}